{
 "cells": [
  {
   "cell_type": "code",
   "execution_count": 1,
   "id": "6ff94d05",
   "metadata": {},
   "outputs": [],
   "source": [
    "with open(\"d6.txt\") as f:\n",
    "    data = f.read()"
   ]
  },
  {
   "cell_type": "code",
   "execution_count": 2,
   "id": "25524f89",
   "metadata": {},
   "outputs": [],
   "source": [
    "ns = list(map(int, data.split(\",\")))"
   ]
  },
  {
   "cell_type": "code",
   "execution_count": 3,
   "id": "7e5e62e6",
   "metadata": {},
   "outputs": [],
   "source": [
    "from collections import Counter"
   ]
  },
  {
   "cell_type": "markdown",
   "id": "e30d22bb",
   "metadata": {},
   "source": [
    "# Part 1"
   ]
  },
  {
   "cell_type": "code",
   "execution_count": 4,
   "id": "2269f511",
   "metadata": {},
   "outputs": [],
   "source": [
    "age_count = Counter()\n",
    "for n in ns:\n",
    "    age_count[n] += 1\n",
    "\n",
    "for d in range(80):\n",
    "    sub_age_count = Counter()\n",
    "    for age, count in age_count.items():\n",
    "        if age > 0:\n",
    "            sub_age_count[age - 1] += count\n",
    "        else:\n",
    "            sub_age_count[6] += count\n",
    "            sub_age_count[8] += count\n",
    "    age_count = sub_age_count"
   ]
  },
  {
   "cell_type": "code",
   "execution_count": 5,
   "id": "2d1704a4",
   "metadata": {},
   "outputs": [
    {
     "data": {
      "text/plain": [
       "351188"
      ]
     },
     "execution_count": 5,
     "metadata": {},
     "output_type": "execute_result"
    }
   ],
   "source": [
    "sum(age_count.values())"
   ]
  },
  {
   "cell_type": "markdown",
   "id": "2dcf8790",
   "metadata": {},
   "source": [
    "# Part 2"
   ]
  },
  {
   "cell_type": "code",
   "execution_count": 6,
   "id": "fa5473a2",
   "metadata": {},
   "outputs": [],
   "source": [
    "age_count = Counter()\n",
    "for n in ns:\n",
    "    age_count[n] += 1\n",
    "\n",
    "for d in range(256):\n",
    "    sub_age_count = Counter()\n",
    "    for age, count in age_count.items():\n",
    "        if age > 0:\n",
    "            sub_age_count[age - 1] += count\n",
    "        else:\n",
    "            sub_age_count[6] += count\n",
    "            sub_age_count[8] += count\n",
    "    age_count = sub_age_count"
   ]
  },
  {
   "cell_type": "code",
   "execution_count": 7,
   "id": "9619af8f",
   "metadata": {},
   "outputs": [
    {
     "data": {
      "text/plain": [
       "1595779846729"
      ]
     },
     "execution_count": 7,
     "metadata": {},
     "output_type": "execute_result"
    }
   ],
   "source": [
    "sum(age_count.values())"
   ]
  },
  {
   "cell_type": "code",
   "execution_count": null,
   "id": "af1f6391",
   "metadata": {},
   "outputs": [],
   "source": []
  }
 ],
 "metadata": {
  "kernelspec": {
   "display_name": "Python 3 (ipykernel)",
   "language": "python",
   "name": "python3"
  },
  "language_info": {
   "codemirror_mode": {
    "name": "ipython",
    "version": 3
   },
   "file_extension": ".py",
   "mimetype": "text/x-python",
   "name": "python",
   "nbconvert_exporter": "python",
   "pygments_lexer": "ipython3",
   "version": "3.9.8"
  }
 },
 "nbformat": 4,
 "nbformat_minor": 5
}
