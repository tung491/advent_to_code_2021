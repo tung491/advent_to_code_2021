{
 "cells": [
  {
   "cell_type": "code",
   "execution_count": 37,
   "id": "b3124fbc",
   "metadata": {},
   "outputs": [],
   "source": [
    "with open(\"d2.txt\") as f:\n",
    "    data = f.read().splitlines()"
   ]
  },
  {
   "cell_type": "markdown",
   "id": "0309626a",
   "metadata": {},
   "source": [
    "# Part 1"
   ]
  },
  {
   "cell_type": "code",
   "execution_count": 33,
   "id": "9af9d7d2",
   "metadata": {},
   "outputs": [],
   "source": [
    "depth = 0\n",
    "horizontal = 0\n",
    "for item in data:\n",
    "    unit = int(item[-1])\n",
    "    if 'forward' in item:\n",
    "        horizontal += unit\n",
    "    if 'down' in item:\n",
    "        depth += unit\n",
    "    if 'up' in item:\n",
    "        depth -= unit"
   ]
  },
  {
   "cell_type": "code",
   "execution_count": 34,
   "id": "aba9f20d",
   "metadata": {},
   "outputs": [
    {
     "data": {
      "text/plain": [
       "1989265"
      ]
     },
     "execution_count": 34,
     "metadata": {},
     "output_type": "execute_result"
    }
   ],
   "source": [
    "horizontal * depth"
   ]
  },
  {
   "cell_type": "markdown",
   "id": "b9cc492b",
   "metadata": {},
   "source": [
    "# Part 2"
   ]
  },
  {
   "cell_type": "code",
   "execution_count": 35,
   "id": "873b90fd",
   "metadata": {},
   "outputs": [],
   "source": [
    "depth = 0\n",
    "horizontal = 0\n",
    "aim = 0\n",
    "for item in data:\n",
    "    if 'forward' in item:\n",
    "        horizontal += int(item[-1])\n",
    "        depth += aim * int(item[-1])\n",
    "    elif 'down' in item:\n",
    "        aim += int(item[-1])\n",
    "    elif 'up' in item:\n",
    "        aim -= int(item[-1])"
   ]
  },
  {
   "cell_type": "code",
   "execution_count": 36,
   "id": "7dc65d39",
   "metadata": {},
   "outputs": [
    {
     "data": {
      "text/plain": [
       "2089174012"
      ]
     },
     "execution_count": 36,
     "metadata": {},
     "output_type": "execute_result"
    }
   ],
   "source": [
    "horizontal * depth"
   ]
  },
  {
   "cell_type": "code",
   "execution_count": null,
   "id": "2ce59454",
   "metadata": {},
   "outputs": [],
   "source": []
  }
 ],
 "metadata": {
  "kernelspec": {
   "display_name": "Python 3 (ipykernel)",
   "language": "python",
   "name": "python3"
  },
  "language_info": {
   "codemirror_mode": {
    "name": "ipython",
    "version": 3
   },
   "file_extension": ".py",
   "mimetype": "text/x-python",
   "name": "python",
   "nbconvert_exporter": "python",
   "pygments_lexer": "ipython3",
   "version": "3.9.8"
  }
 },
 "nbformat": 4,
 "nbformat_minor": 5
}
