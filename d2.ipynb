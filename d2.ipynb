{
 "cells": [
  {
   "cell_type": "code",
   "execution_count": 1,
   "id": "6e7836b7",
   "metadata": {},
   "outputs": [],
   "source": [
    "with open(\"d2.txt\") as f:\n",
    "    data = f.read().splitlines()"
   ]
  },
  {
   "cell_type": "markdown",
   "id": "9047448f",
   "metadata": {},
   "source": [
    "# Part 1"
   ]
  },
  {
   "cell_type": "code",
   "execution_count": 2,
   "id": "934a6f92",
   "metadata": {},
   "outputs": [],
   "source": [
    "depth = 0\n",
    "horizontal = 0\n",
    "for item in data:\n",
    "    unit = int(item[-1])\n",
    "    if 'forward' in item:\n",
    "        horizontal += unit\n",
    "    if 'down' in item:\n",
    "        depth += unit\n",
    "    if 'up' in item:\n",
    "        depth -= unit"
   ]
  },
  {
   "cell_type": "code",
   "execution_count": 3,
   "id": "7b8fee77",
   "metadata": {},
   "outputs": [
    {
     "data": {
      "text/plain": [
       "1488669"
      ]
     },
     "execution_count": 3,
     "metadata": {},
     "output_type": "execute_result"
    }
   ],
   "source": [
    "horizontal * depth"
   ]
  },
  {
   "cell_type": "markdown",
   "id": "526bfd36",
   "metadata": {},
   "source": [
    "# Part 2"
   ]
  },
  {
   "cell_type": "code",
   "execution_count": 4,
   "id": "6e183ac9",
   "metadata": {},
   "outputs": [],
   "source": [
    "depth = 0\n",
    "horizontal = 0\n",
    "aim = 0\n",
    "for item in data:\n",
    "    unit = int(item[-1])\n",
    "    if 'forward' in item:\n",
    "        horizontal += unit\n",
    "        depth += aim * unit\n",
    "    elif 'down' in item:\n",
    "        aim += unit\n",
    "    elif 'up' in item:\n",
    "        aim -= unit"
   ]
  },
  {
   "cell_type": "code",
   "execution_count": 5,
   "id": "6d72d63a",
   "metadata": {},
   "outputs": [
    {
     "data": {
      "text/plain": [
       "1176514794"
      ]
     },
     "execution_count": 5,
     "metadata": {},
     "output_type": "execute_result"
    }
   ],
   "source": [
    "horizontal * depth"
   ]
  },
  {
   "cell_type": "code",
   "execution_count": null,
   "id": "c6fdb9c6",
   "metadata": {},
   "outputs": [],
   "source": []
  }
 ],
 "metadata": {
  "kernelspec": {
   "display_name": "Python 3 (ipykernel)",
   "language": "python",
   "name": "python3"
  },
  "language_info": {
   "codemirror_mode": {
    "name": "ipython",
    "version": 3
   },
   "file_extension": ".py",
   "mimetype": "text/x-python",
   "name": "python",
   "nbconvert_exporter": "python",
   "pygments_lexer": "ipython3",
   "version": "3.9.8"
  }
 },
 "nbformat": 4,
 "nbformat_minor": 5
}
