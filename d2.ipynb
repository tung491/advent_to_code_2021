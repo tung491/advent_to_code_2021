{
 "cells": [
  {
   "cell_type": "code",
   "execution_count": 29,
   "id": "2e1a2512",
   "metadata": {},
   "outputs": [],
   "source": [
    "with open(\"d2.txt\") as f:\n",
    "    data = i"
   ]
  },
  {
   "cell_type": "code",
   "execution_count": 30,
   "id": "88a08982",
   "metadata": {},
   "outputs": [],
   "source": [
    "data = input.splitlines()"
   ]
  },
  {
   "cell_type": "markdown",
   "id": "282c52fd",
   "metadata": {},
   "source": [
    "# Part 1"
   ]
  },
  {
   "cell_type": "code",
   "execution_count": 33,
   "id": "646fa5c9",
   "metadata": {},
   "outputs": [],
   "source": [
    "depth = 0\n",
    "horizontal = 0\n",
    "for item in data:\n",
    "    unit = int(item[-1])\n",
    "    if 'forward' in item:\n",
    "        horizontal += unit\n",
    "    if 'down' in item:\n",
    "        depth += unit\n",
    "    if 'up' in item:\n",
    "        depth -= unit"
   ]
  },
  {
   "cell_type": "code",
   "execution_count": 34,
   "id": "cfa9d9b5",
   "metadata": {},
   "outputs": [
    {
     "data": {
      "text/plain": [
       "1989265"
      ]
     },
     "execution_count": 34,
     "metadata": {},
     "output_type": "execute_result"
    }
   ],
   "source": [
    "horizontal * depth"
   ]
  },
  {
   "cell_type": "markdown",
   "id": "ed36221e",
   "metadata": {},
   "source": [
    "# Part 2"
   ]
  },
  {
   "cell_type": "code",
   "execution_count": 35,
   "id": "7381abfd",
   "metadata": {},
   "outputs": [],
   "source": [
    "depth = 0\n",
    "horizontal = 0\n",
    "aim = 0\n",
    "for item in data:\n",
    "    if 'forward' in item:\n",
    "        horizontal += int(item[-1])\n",
    "        depth += aim * int(item[-1])\n",
    "    elif 'down' in item:\n",
    "        aim += int(item[-1])\n",
    "    elif 'up' in item:\n",
    "        aim -= int(item[-1])"
   ]
  },
  {
   "cell_type": "code",
   "execution_count": 36,
   "id": "8370739f",
   "metadata": {},
   "outputs": [
    {
     "data": {
      "text/plain": [
       "2089174012"
      ]
     },
     "execution_count": 36,
     "metadata": {},
     "output_type": "execute_result"
    }
   ],
   "source": [
    "horizontal * depth"
   ]
  },
  {
   "cell_type": "code",
   "execution_count": null,
   "id": "f1412b32",
   "metadata": {},
   "outputs": [],
   "source": []
  }
 ],
 "metadata": {
  "kernelspec": {
   "display_name": "Python 3 (ipykernel)",
   "language": "python",
   "name": "python3"
  },
  "language_info": {
   "codemirror_mode": {
    "name": "ipython",
    "version": 3
   },
   "file_extension": ".py",
   "mimetype": "text/x-python",
   "name": "python",
   "nbconvert_exporter": "python",
   "pygments_lexer": "ipython3",
   "version": "3.9.8"
  }
 },
 "nbformat": 4,
 "nbformat_minor": 5
}
