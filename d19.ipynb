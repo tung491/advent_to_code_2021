{
 "cells": [
  {
   "cell_type": "code",
   "execution_count": 1,
   "id": "0f48dad0",
   "metadata": {},
   "outputs": [],
   "source": [
    "import re"
   ]
  },
  {
   "cell_type": "code",
   "execution_count": 2,
   "id": "fd6548e1",
   "metadata": {},
   "outputs": [],
   "source": [
    "with open(\"d19.txt\") as f:\n",
    "    data = f.read().split(\"\\n\\n\")"
   ]
  },
  {
   "cell_type": "code",
   "execution_count": 3,
   "id": "ff854c85",
   "metadata": {},
   "outputs": [],
   "source": [
    "scanners = []\n",
    "for scanner in data:\n",
    "    scanner = scanner.splitlines()\n",
    "    header, *_beacons = scanner\n",
    "    scanner_idx = int(re.search(\"(\\d+)\", header).groups()[0])\n",
    "    beacons = set()\n",
    "    for beacon in _beacons:\n",
    "        beacons.add(tuple(int(n) for n in beacon.split(\",\")))\n",
    "    scanners.append(beacons)"
   ]
  },
  {
   "cell_type": "code",
   "execution_count": 4,
   "id": "cf098e9e",
   "metadata": {},
   "outputs": [],
   "source": [
    "def rotations(x,y,z):\n",
    "    return ((x, y, z), \n",
    "            (y, -x, z),\n",
    "            (-x, -y, z),\n",
    "            (-y, x, z),\n",
    "            (z, y, -x),\n",
    "            (y, -z, -x),\n",
    "            (-z, -y, -x),\n",
    "            (-y, z, -x),\n",
    "            (-x, y, -z),\n",
    "            (y, x, -z),\n",
    "            (x, -y, -z),\n",
    "            (-y, -x, -z),\n",
    "            (-z, y, x),\n",
    "            (y, z, x),\n",
    "            (z, -y, x),\n",
    "            (-y, -z, x),\n",
    "            (x, z, -y),\n",
    "            (z, -x, -y),\n",
    "            (-x, -z, -y),\n",
    "            (-z, x, -y),\n",
    "            (x, -z, y),\n",
    "            (-z, -x, y),\n",
    "            (-x, z, y),\n",
    "            (z, x, y)\n",
    "            )"
   ]
  },
  {
   "cell_type": "code",
   "execution_count": 5,
   "id": "627ff7aa",
   "metadata": {},
   "outputs": [],
   "source": [
    "abs_beacons = set(scanners[0])"
   ]
  },
  {
   "cell_type": "code",
   "execution_count": 6,
   "id": "606fa409",
   "metadata": {},
   "outputs": [],
   "source": [
    "unknow_scanners = scanners[1:]"
   ]
  },
  {
   "cell_type": "code",
   "execution_count": 7,
   "id": "2d6037d8",
   "metadata": {},
   "outputs": [],
   "source": [
    "sensor_pos = []"
   ]
  },
  {
   "cell_type": "code",
   "execution_count": 8,
   "id": "437d5264",
   "metadata": {},
   "outputs": [],
   "source": [
    "while unknow_scanners:\n",
    "    for abs_beacon in list(abs_beacons):\n",
    "        for scanner in unknow_scanners:\n",
    "            rotate_ways = zip(*[rotations(x, y, z) for x, y, z in scanner])\n",
    "            rotate_ways = [set(way) for way in rotate_ways]\n",
    "            for way in rotate_ways:\n",
    "                for relative_beacon in way:\n",
    "                    dx = relative_beacon[0] - abs_beacon[0]\n",
    "                    dy = relative_beacon[1] - abs_beacon[1]\n",
    "                    dz = relative_beacon[2] - abs_beacon[2]\n",
    "                    abs_possibilities = set((x-dx, y-dy, z-dz) for x, y, z in way)\n",
    "                    overlap = len(abs_possibilities & abs_beacons)\n",
    "                    if overlap >= 12:\n",
    "                        sensor_pos.append((dx, dy, dz))\n",
    "                        abs_beacons.update(abs_possibilities)\n",
    "                        unknow_scanners.remove(scanner)\n",
    "                        break"
   ]
  },
  {
   "cell_type": "code",
   "execution_count": 9,
   "id": "c053dc78",
   "metadata": {},
   "outputs": [
    {
     "data": {
      "text/plain": [
       "372"
      ]
     },
     "execution_count": 9,
     "metadata": {},
     "output_type": "execute_result"
    }
   ],
   "source": [
    "len(abs_beacons)"
   ]
  },
  {
   "cell_type": "markdown",
   "id": "704830f7",
   "metadata": {},
   "source": [
    "# Part 2"
   ]
  },
  {
   "cell_type": "code",
   "execution_count": 10,
   "id": "ff660d17",
   "metadata": {},
   "outputs": [],
   "source": [
    "max_dist = 0"
   ]
  },
  {
   "cell_type": "code",
   "execution_count": 11,
   "id": "5f3df878",
   "metadata": {},
   "outputs": [],
   "source": [
    "from itertools import combinations"
   ]
  },
  {
   "cell_type": "code",
   "execution_count": 15,
   "id": "967c3e86",
   "metadata": {},
   "outputs": [],
   "source": [
    "def manhattan_dist(s1, s2):\n",
    "    return sum(abs(s1[i] - s2[i]) for i in range(3))"
   ]
  },
  {
   "cell_type": "code",
   "execution_count": 16,
   "id": "6b8722d2",
   "metadata": {},
   "outputs": [],
   "source": [
    "for s1, s2 in combinations(sensor_pos, 2):\n",
    "    max_dist = max(max_dist, manhattan_dist(s1, s2))"
   ]
  },
  {
   "cell_type": "code",
   "execution_count": 17,
   "id": "b3f3fe32",
   "metadata": {
    "scrolled": true
   },
   "outputs": [
    {
     "data": {
      "text/plain": [
       "12241"
      ]
     },
     "execution_count": 17,
     "metadata": {},
     "output_type": "execute_result"
    }
   ],
   "source": [
    "max_dist"
   ]
  },
  {
   "cell_type": "code",
   "execution_count": null,
   "id": "da09275e",
   "metadata": {},
   "outputs": [],
   "source": []
  }
 ],
 "metadata": {
  "kernelspec": {
   "display_name": "Python 3 (ipykernel)",
   "language": "python",
   "name": "python3"
  },
  "language_info": {
   "codemirror_mode": {
    "name": "ipython",
    "version": 3
   },
   "file_extension": ".py",
   "mimetype": "text/x-python",
   "name": "python",
   "nbconvert_exporter": "python",
   "pygments_lexer": "ipython3",
   "version": "3.9.8"
  }
 },
 "nbformat": 4,
 "nbformat_minor": 5
}
