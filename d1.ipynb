{
 "cells": [
  {
   "cell_type": "code",
   "execution_count": 1,
   "id": "f25cb299",
   "metadata": {},
   "outputs": [],
   "source": [
    "with open('d1.txt') as f:\n",
    "    data = f.read().splitlines()"
   ]
  },
  {
   "cell_type": "code",
   "execution_count": 2,
   "id": "d7585b30",
   "metadata": {},
   "outputs": [],
   "source": [
    "data = [int(n) for n in data]"
   ]
  },
  {
   "cell_type": "code",
   "execution_count": 3,
   "id": "0c1c4877",
   "metadata": {},
   "outputs": [
    {
     "data": {
      "text/plain": [
       "174"
      ]
     },
     "execution_count": 3,
     "metadata": {},
     "output_type": "execute_result"
    }
   ],
   "source": [
    "data[0]"
   ]
  },
  {
   "cell_type": "markdown",
   "id": "7c6e9db2",
   "metadata": {},
   "source": [
    "# Part 1"
   ]
  },
  {
   "cell_type": "code",
   "execution_count": 4,
   "id": "8721e20c",
   "metadata": {},
   "outputs": [],
   "source": [
    "prev = data[0]"
   ]
  },
  {
   "cell_type": "code",
   "execution_count": 5,
   "id": "2265b5e4",
   "metadata": {},
   "outputs": [],
   "source": [
    "count = 0"
   ]
  },
  {
   "cell_type": "code",
   "execution_count": 6,
   "id": "9ef8648c",
   "metadata": {},
   "outputs": [],
   "source": [
    "for n in data[1:]:\n",
    "    if n > prev:\n",
    "        count += 1\n",
    "    prev = n"
   ]
  },
  {
   "cell_type": "code",
   "execution_count": 7,
   "id": "a51b20a4",
   "metadata": {},
   "outputs": [
    {
     "data": {
      "text/plain": [
       "1316"
      ]
     },
     "execution_count": 7,
     "metadata": {},
     "output_type": "execute_result"
    }
   ],
   "source": [
    "count"
   ]
  },
  {
   "cell_type": "markdown",
   "id": "3192ebbb",
   "metadata": {},
   "source": [
    "# Part 2"
   ]
  },
  {
   "cell_type": "code",
   "execution_count": 8,
   "id": "67fe5c19",
   "metadata": {},
   "outputs": [],
   "source": [
    "slides = []"
   ]
  },
  {
   "cell_type": "code",
   "execution_count": 9,
   "id": "4577c812",
   "metadata": {},
   "outputs": [],
   "source": [
    "for i in range(len(data) -  2):\n",
    "    slides.append(sum(data[i:i+3]))"
   ]
  },
  {
   "cell_type": "code",
   "execution_count": 10,
   "id": "ce3bb08c",
   "metadata": {},
   "outputs": [],
   "source": [
    "prev = slides[0]"
   ]
  },
  {
   "cell_type": "code",
   "execution_count": 11,
   "id": "a1d1f70e",
   "metadata": {},
   "outputs": [],
   "source": [
    "count = 0\n",
    "for n in slides[1:]:\n",
    "    if n > prev:\n",
    "        count += 1\n",
    "    prev = n"
   ]
  },
  {
   "cell_type": "code",
   "execution_count": 12,
   "id": "e5f71ead",
   "metadata": {},
   "outputs": [
    {
     "data": {
      "text/plain": [
       "1344"
      ]
     },
     "execution_count": 12,
     "metadata": {},
     "output_type": "execute_result"
    }
   ],
   "source": [
    "count"
   ]
  },
  {
   "cell_type": "code",
   "execution_count": null,
   "id": "56716937",
   "metadata": {},
   "outputs": [],
   "source": []
  }
 ],
 "metadata": {
  "kernelspec": {
   "display_name": "Python 3 (ipykernel)",
   "language": "python",
   "name": "python3"
  },
  "language_info": {
   "codemirror_mode": {
    "name": "ipython",
    "version": 3
   },
   "file_extension": ".py",
   "mimetype": "text/x-python",
   "name": "python",
   "nbconvert_exporter": "python",
   "pygments_lexer": "ipython3",
   "version": "3.9.8"
  }
 },
 "nbformat": 4,
 "nbformat_minor": 5
}
