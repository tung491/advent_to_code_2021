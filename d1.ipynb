{
 "cells": [
  {
   "cell_type": "code",
   "execution_count": 1,
   "id": "a6fcb0e4",
   "metadata": {},
   "outputs": [],
   "source": [
    "with open('d1.txt') as f:\n",
    "    data = f.read().splitlines()"
   ]
  },
  {
   "cell_type": "code",
   "execution_count": 2,
   "id": "7ee37fec",
   "metadata": {},
   "outputs": [],
   "source": [
    "data = [int(n) for n in data]"
   ]
  },
  {
   "cell_type": "code",
   "execution_count": 3,
   "id": "ebf7a668",
   "metadata": {},
   "outputs": [
    {
     "data": {
      "text/plain": [
       "134"
      ]
     },
     "execution_count": 3,
     "metadata": {},
     "output_type": "execute_result"
    }
   ],
   "source": [
    "data[0]"
   ]
  },
  {
   "cell_type": "markdown",
   "id": "40969f5d",
   "metadata": {},
   "source": [
    "# Part 1"
   ]
  },
  {
   "cell_type": "code",
   "execution_count": 4,
   "id": "e10dc315",
   "metadata": {},
   "outputs": [],
   "source": [
    "prev = data[0]"
   ]
  },
  {
   "cell_type": "code",
   "execution_count": 5,
   "id": "e92edcbe",
   "metadata": {},
   "outputs": [],
   "source": [
    "count = 0"
   ]
  },
  {
   "cell_type": "code",
   "execution_count": 6,
   "id": "a8ed569b",
   "metadata": {},
   "outputs": [],
   "source": [
    "for n in data[1:]:\n",
    "    if n > prev:\n",
    "        count += 1\n",
    "    prev = n"
   ]
  },
  {
   "cell_type": "code",
   "execution_count": 7,
   "id": "d1d8035b",
   "metadata": {},
   "outputs": [
    {
     "data": {
      "text/plain": [
       "1766"
      ]
     },
     "execution_count": 7,
     "metadata": {},
     "output_type": "execute_result"
    }
   ],
   "source": [
    "count"
   ]
  },
  {
   "cell_type": "markdown",
   "id": "73f1790a",
   "metadata": {},
   "source": [
    "# Part 2"
   ]
  },
  {
   "cell_type": "code",
   "execution_count": 8,
   "id": "423b3062",
   "metadata": {},
   "outputs": [],
   "source": [
    "slides = []"
   ]
  },
  {
   "cell_type": "code",
   "execution_count": 9,
   "id": "b0217e2a",
   "metadata": {},
   "outputs": [],
   "source": [
    "for i in range(len(data) - 2):\n",
    "    slides.append(sum(data[i:i+3]))"
   ]
  },
  {
   "cell_type": "code",
   "execution_count": 10,
   "id": "4020bd6a",
   "metadata": {},
   "outputs": [],
   "source": [
    "prev = slides[0]"
   ]
  },
  {
   "cell_type": "code",
   "execution_count": 11,
   "id": "a33c13fb",
   "metadata": {},
   "outputs": [],
   "source": [
    "count = 0\n",
    "for n in slides[1:]:\n",
    "    if n > prev:\n",
    "        count += 1\n",
    "    prev = n"
   ]
  },
  {
   "cell_type": "code",
   "execution_count": 12,
   "id": "ea60da9e",
   "metadata": {},
   "outputs": [
    {
     "data": {
      "text/plain": [
       "1797"
      ]
     },
     "execution_count": 12,
     "metadata": {},
     "output_type": "execute_result"
    }
   ],
   "source": [
    "count"
   ]
  },
  {
   "cell_type": "code",
   "execution_count": null,
   "id": "d78330f7",
   "metadata": {},
   "outputs": [],
   "source": []
  }
 ],
 "metadata": {
  "kernelspec": {
   "display_name": "Python 3 (ipykernel)",
   "language": "python",
   "name": "python3"
  },
  "language_info": {
   "codemirror_mode": {
    "name": "ipython",
    "version": 3
   },
   "file_extension": ".py",
   "mimetype": "text/x-python",
   "name": "python",
   "nbconvert_exporter": "python",
   "pygments_lexer": "ipython3",
   "version": "3.9.8"
  }
 },
 "nbformat": 4,
 "nbformat_minor": 5
}
