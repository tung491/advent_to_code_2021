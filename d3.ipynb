{
 "cells": [
  {
   "cell_type": "code",
   "execution_count": 127,
   "id": "a44b5bf7",
   "metadata": {},
   "outputs": [],
   "source": [
    "with open(\"d3.txt\") as f:\n",
    "    lines = f.read().splitlines()"
   ]
  },
  {
   "cell_type": "code",
   "execution_count": 128,
   "id": "41a3f834",
   "metadata": {},
   "outputs": [],
   "source": [
    "len_bit = len(lines[0])"
   ]
  },
  {
   "cell_type": "code",
   "execution_count": 129,
   "id": "ca624ed3",
   "metadata": {},
   "outputs": [
    {
     "data": {
      "text/plain": [
       "12"
      ]
     },
     "execution_count": 129,
     "metadata": {},
     "output_type": "execute_result"
    }
   ],
   "source": [
    "len_bit"
   ]
  },
  {
   "cell_type": "code",
   "execution_count": null,
   "id": "da84b26a",
   "metadata": {},
   "outputs": [],
   "source": []
  },
  {
   "cell_type": "code",
   "execution_count": 130,
   "id": "5e420ba6",
   "metadata": {},
   "outputs": [],
   "source": [
    "from collections import defaultdict"
   ]
  },
  {
   "cell_type": "code",
   "execution_count": 131,
   "id": "2dd698dc",
   "metadata": {},
   "outputs": [],
   "source": [
    "counters = {i: defaultdict(int) for i in range(12)}"
   ]
  },
  {
   "cell_type": "code",
   "execution_count": 132,
   "id": "6e7328d5",
   "metadata": {},
   "outputs": [
    {
     "data": {
      "text/plain": [
       "{0: defaultdict(int, {}),\n",
       " 1: defaultdict(int, {}),\n",
       " 2: defaultdict(int, {}),\n",
       " 3: defaultdict(int, {}),\n",
       " 4: defaultdict(int, {}),\n",
       " 5: defaultdict(int, {}),\n",
       " 6: defaultdict(int, {}),\n",
       " 7: defaultdict(int, {}),\n",
       " 8: defaultdict(int, {}),\n",
       " 9: defaultdict(int, {}),\n",
       " 10: defaultdict(int, {}),\n",
       " 11: defaultdict(int, {})}"
      ]
     },
     "execution_count": 132,
     "metadata": {},
     "output_type": "execute_result"
    }
   ],
   "source": [
    "counters"
   ]
  },
  {
   "cell_type": "code",
   "execution_count": 133,
   "id": "08f1da87",
   "metadata": {},
   "outputs": [],
   "source": [
    "def counter_bits(lines):\n",
    "    counters = {i: defaultdict(int) for i in range(len(lines[0]))}\n",
    "    for line in lines:\n",
    "        for i in range(len_bit):\n",
    "            counters[i][line[i]] += 1\n",
    "    return counters"
   ]
  },
  {
   "cell_type": "code",
   "execution_count": 134,
   "id": "95ad91e5",
   "metadata": {},
   "outputs": [],
   "source": [
    "counters = counter_bits(lines)"
   ]
  },
  {
   "cell_type": "code",
   "execution_count": 135,
   "id": "dabe1e5a",
   "metadata": {},
   "outputs": [
    {
     "data": {
      "text/plain": [
       "{0: defaultdict(int, {'0': 510, '1': 490}),\n",
       " 1: defaultdict(int, {'0': 489, '1': 511}),\n",
       " 2: defaultdict(int, {'0': 508, '1': 492}),\n",
       " 3: defaultdict(int, {'1': 498, '0': 502}),\n",
       " 4: defaultdict(int, {'1': 508, '0': 492}),\n",
       " 5: defaultdict(int, {'0': 521, '1': 479}),\n",
       " 6: defaultdict(int, {'0': 505, '1': 495}),\n",
       " 7: defaultdict(int, {'0': 493, '1': 507}),\n",
       " 8: defaultdict(int, {'0': 505, '1': 495}),\n",
       " 9: defaultdict(int, {'0': 471, '1': 529}),\n",
       " 10: defaultdict(int, {'0': 491, '1': 509}),\n",
       " 11: defaultdict(int, {'1': 489, '0': 511})}"
      ]
     },
     "execution_count": 135,
     "metadata": {},
     "output_type": "execute_result"
    }
   ],
   "source": [
    "counters"
   ]
  },
  {
   "cell_type": "code",
   "execution_count": 136,
   "id": "e70f9eb2",
   "metadata": {},
   "outputs": [],
   "source": [
    "for line in lines:\n",
    "    for i in range(len_bit):\n",
    "        counters[i][line[i]] += 1"
   ]
  },
  {
   "cell_type": "code",
   "execution_count": 137,
   "id": "7bd5dfa0",
   "metadata": {},
   "outputs": [
    {
     "data": {
      "text/plain": [
       "{0: defaultdict(int, {'0': 1020, '1': 980}),\n",
       " 1: defaultdict(int, {'0': 978, '1': 1022}),\n",
       " 2: defaultdict(int, {'0': 1016, '1': 984}),\n",
       " 3: defaultdict(int, {'1': 996, '0': 1004}),\n",
       " 4: defaultdict(int, {'1': 1016, '0': 984}),\n",
       " 5: defaultdict(int, {'0': 1042, '1': 958}),\n",
       " 6: defaultdict(int, {'0': 1010, '1': 990}),\n",
       " 7: defaultdict(int, {'0': 986, '1': 1014}),\n",
       " 8: defaultdict(int, {'0': 1010, '1': 990}),\n",
       " 9: defaultdict(int, {'0': 942, '1': 1058}),\n",
       " 10: defaultdict(int, {'0': 982, '1': 1018}),\n",
       " 11: defaultdict(int, {'1': 978, '0': 1022})}"
      ]
     },
     "execution_count": 137,
     "metadata": {},
     "output_type": "execute_result"
    }
   ],
   "source": [
    "counters"
   ]
  },
  {
   "cell_type": "code",
   "execution_count": 138,
   "id": "7535db61",
   "metadata": {},
   "outputs": [],
   "source": [
    "gramma = '0b'\n",
    "epsilon = '0b'\n",
    "for i in range(len_bit):\n",
    "    if counters[i]['0'] > counters[i]['1']:\n",
    "        gramma += '0'\n",
    "        epsilon += '1'\n",
    "    else:\n",
    "        gramma += '1'\n",
    "        epsilon += '0'"
   ]
  },
  {
   "cell_type": "code",
   "execution_count": 84,
   "id": "5bca4fba",
   "metadata": {},
   "outputs": [
    {
     "data": {
      "text/plain": [
       "198"
      ]
     },
     "execution_count": 84,
     "metadata": {},
     "output_type": "execute_result"
    }
   ],
   "source": [
    "int(gramma, base=2) * int(epsilon, base=2)"
   ]
  },
  {
   "cell_type": "markdown",
   "id": "7f76f9a7",
   "metadata": {},
   "source": [
    "# Part 2"
   ]
  },
  {
   "cell_type": "code",
   "execution_count": 15,
   "id": "7f52736b",
   "metadata": {},
   "outputs": [],
   "source": [
    "import re"
   ]
  },
  {
   "cell_type": "code",
   "execution_count": 88,
   "id": "0e8700b7",
   "metadata": {},
   "outputs": [],
   "source": [
    "pattern = \"^\""
   ]
  },
  {
   "cell_type": "code",
   "execution_count": 139,
   "id": "6b769523",
   "metadata": {},
   "outputs": [
    {
     "data": {
      "text/plain": [
       "{0: defaultdict(int, {'0': 1020, '1': 980}),\n",
       " 1: defaultdict(int, {'0': 978, '1': 1022}),\n",
       " 2: defaultdict(int, {'0': 1016, '1': 984}),\n",
       " 3: defaultdict(int, {'1': 996, '0': 1004}),\n",
       " 4: defaultdict(int, {'1': 1016, '0': 984}),\n",
       " 5: defaultdict(int, {'0': 1042, '1': 958}),\n",
       " 6: defaultdict(int, {'0': 1010, '1': 990}),\n",
       " 7: defaultdict(int, {'0': 986, '1': 1014}),\n",
       " 8: defaultdict(int, {'0': 1010, '1': 990}),\n",
       " 9: defaultdict(int, {'0': 942, '1': 1058}),\n",
       " 10: defaultdict(int, {'0': 982, '1': 1018}),\n",
       " 11: defaultdict(int, {'1': 978, '0': 1022})}"
      ]
     },
     "execution_count": 139,
     "metadata": {},
     "output_type": "execute_result"
    }
   ],
   "source": [
    "counters"
   ]
  },
  {
   "cell_type": "code",
   "execution_count": 147,
   "id": "b5639c3e",
   "metadata": {},
   "outputs": [
    {
     "name": "stdout",
     "output_type": "stream",
     "text": [
      "['010110111111']\n"
     ]
    }
   ],
   "source": [
    "matched = lines\n",
    "pattern = \"^\"\n",
    "for i in range(len_bit):\n",
    "    counters = counter_bits(matched)\n",
    "    counter = counters[i]\n",
    "    pattern += '1' if counter['1'] >= counter['0'] else '0'\n",
    "    matched = [line for line in matched if re.match(pattern, line)]\n",
    "    if len(matched) == 1:\n",
    "        print(matched)\n",
    "        break"
   ]
  },
  {
   "cell_type": "code",
   "execution_count": 148,
   "id": "33a8c29e",
   "metadata": {},
   "outputs": [],
   "source": [
    "oxygen = int(matched[0], 2)"
   ]
  },
  {
   "cell_type": "code",
   "execution_count": 151,
   "id": "6d2a3fea",
   "metadata": {},
   "outputs": [
    {
     "name": "stdout",
     "output_type": "stream",
     "text": [
      "['111001011110']\n"
     ]
    }
   ],
   "source": [
    "matched = lines\n",
    "pattern = \"^\"\n",
    "for i in range(len_bit):\n",
    "    counters = counter_bits(matched)\n",
    "    counter = counters[i]\n",
    "    pattern += '1' if counter['1'] < counter['0'] else '0'\n",
    "    matched = [line for line in matched if re.match(pattern, line)]\n",
    "    if len(matched) == 1:\n",
    "        print(matched)\n",
    "        break"
   ]
  },
  {
   "cell_type": "code",
   "execution_count": 152,
   "id": "7f60652a",
   "metadata": {},
   "outputs": [],
   "source": [
    "co2 = int(matched[0], 2)"
   ]
  },
  {
   "cell_type": "code",
   "execution_count": 154,
   "id": "43b8b506",
   "metadata": {},
   "outputs": [
    {
     "data": {
      "text/plain": [
       "5410338"
      ]
     },
     "execution_count": 154,
     "metadata": {},
     "output_type": "execute_result"
    }
   ],
   "source": [
    "oxygen * co2"
   ]
  },
  {
   "cell_type": "code",
   "execution_count": null,
   "id": "736eccf0",
   "metadata": {},
   "outputs": [],
   "source": []
  }
 ],
 "metadata": {
  "kernelspec": {
   "display_name": "Python 3 (ipykernel)",
   "language": "python",
   "name": "python3"
  },
  "language_info": {
   "codemirror_mode": {
    "name": "ipython",
    "version": 3
   },
   "file_extension": ".py",
   "mimetype": "text/x-python",
   "name": "python",
   "nbconvert_exporter": "python",
   "pygments_lexer": "ipython3",
   "version": "3.9.8"
  }
 },
 "nbformat": 4,
 "nbformat_minor": 5
}
