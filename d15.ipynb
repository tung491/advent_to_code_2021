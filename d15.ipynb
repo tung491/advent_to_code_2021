{
 "cells": [
  {
   "cell_type": "code",
   "execution_count": 237,
   "id": "8bfd5413",
   "metadata": {},
   "outputs": [],
   "source": [
    "with open(\"d15.txt\") as f:\n",
    "    lines = f.read().splitlines()"
   ]
  },
  {
   "cell_type": "code",
   "execution_count": 199,
   "id": "5854d0a3",
   "metadata": {},
   "outputs": [],
   "source": [
    "lines = \"\"\"1163751742\n",
    "1381373672\n",
    "2136511328\n",
    "3694931569\n",
    "7463417111\n",
    "1319128137\n",
    "1359912421\n",
    "3125421639\n",
    "1293138521\n",
    "2311944581\n",
    "\"\"\".splitlines()"
   ]
  },
  {
   "cell_type": "code",
   "execution_count": 238,
   "id": "4e4620ca",
   "metadata": {},
   "outputs": [],
   "source": [
    "matrix = [list(map(int, list(line))) for line in lines]"
   ]
  },
  {
   "cell_type": "code",
   "execution_count": 239,
   "id": "495dc4c5",
   "metadata": {},
   "outputs": [
    {
     "data": {
      "text/plain": [
       "100"
      ]
     },
     "execution_count": 239,
     "metadata": {},
     "output_type": "execute_result"
    }
   ],
   "source": [
    "len(matrix[0])"
   ]
  },
  {
   "cell_type": "code",
   "execution_count": 240,
   "id": "9b9f9dd4",
   "metadata": {},
   "outputs": [],
   "source": [
    "def get_neighbors(matrix, x, y):\n",
    "    ops = [[0, 1], [1, 0], [-1, 0], [0, -1]]\n",
    "    neighbors = []\n",
    "    for op in ops:\n",
    "        x_ = x+ op[0]\n",
    "        y_ = y+ op[1]\n",
    "        if x_ >= len(matrix) or y_ >= len(matrix[0]) or x_ < 0 or y_ < 0: continue\n",
    "        neighbors.append((x_, y_))\n",
    "    return neighbors"
   ]
  },
  {
   "cell_type": "code",
   "execution_count": 241,
   "id": "cc862dc4",
   "metadata": {},
   "outputs": [
    {
     "data": {
      "text/plain": [
       "[(98, 99), (99, 98)]"
      ]
     },
     "execution_count": 241,
     "metadata": {},
     "output_type": "execute_result"
    }
   ],
   "source": [
    "get_neighbors(matrix, 99, 99)"
   ]
  },
  {
   "cell_type": "code",
   "execution_count": 242,
   "id": "d587fd4a",
   "metadata": {},
   "outputs": [],
   "source": [
    "import networkx"
   ]
  },
  {
   "cell_type": "code",
   "execution_count": 256,
   "id": "05243cdd",
   "metadata": {},
   "outputs": [],
   "source": [
    "graph = networkx.DiGraph()"
   ]
  },
  {
   "cell_type": "code",
   "execution_count": 267,
   "id": "369abf3c",
   "metadata": {},
   "outputs": [],
   "source": [
    "for x in range(len(matrix)):\n",
    "    for y in range(len(matrix)):\n",
    "        neighbors = get_neighbors(matrix, x, y)\n",
    "        for neighbor in neighbors:\n",
    "            graph.add_edge((x, y), neighbor, weight=matrix[neighbor[0]][neighbor[1]])"
   ]
  },
  {
   "cell_type": "code",
   "execution_count": 280,
   "id": "3d419712",
   "metadata": {},
   "outputs": [],
   "source": [
    "def get_sum(path):\n",
    "    return sum(matrix[x][y] for x, y in path[1:])"
   ]
  },
  {
   "cell_type": "code",
   "execution_count": 273,
   "id": "398b37bf",
   "metadata": {},
   "outputs": [],
   "source": [
    "path = networkx.algorithms.shortest_paths.astar.astar_path(graph, (0, 0), (99, 99))"
   ]
  },
  {
   "cell_type": "code",
   "execution_count": 281,
   "id": "72b3c014",
   "metadata": {},
   "outputs": [
    {
     "data": {
      "text/plain": [
       "769"
      ]
     },
     "execution_count": 281,
     "metadata": {},
     "output_type": "execute_result"
    }
   ],
   "source": [
    "get_sum(path)"
   ]
  },
  {
   "cell_type": "code",
   "execution_count": 278,
   "id": "e1cc78b9",
   "metadata": {},
   "outputs": [],
   "source": [
    "dist, path = networkx.single_source_dijkstra(graph, (0, 0), (99, 99))"
   ]
  },
  {
   "cell_type": "code",
   "execution_count": 271,
   "id": "a97876c1",
   "metadata": {},
   "outputs": [
    {
     "data": {
      "text/plain": [
       "769"
      ]
     },
     "execution_count": 271,
     "metadata": {},
     "output_type": "execute_result"
    }
   ],
   "source": [
    "dist"
   ]
  },
  {
   "cell_type": "code",
   "execution_count": null,
   "id": "b86bd149",
   "metadata": {},
   "outputs": [],
   "source": []
  },
  {
   "cell_type": "code",
   "execution_count": null,
   "id": "05d90e41",
   "metadata": {},
   "outputs": [],
   "source": []
  }
 ],
 "metadata": {
  "kernelspec": {
   "display_name": "Python 3 (ipykernel)",
   "language": "python",
   "name": "python3"
  },
  "language_info": {
   "codemirror_mode": {
    "name": "ipython",
    "version": 3
   },
   "file_extension": ".py",
   "mimetype": "text/x-python",
   "name": "python",
   "nbconvert_exporter": "python",
   "pygments_lexer": "ipython3",
   "version": "3.9.8"
  }
 },
 "nbformat": 4,
 "nbformat_minor": 5
}
