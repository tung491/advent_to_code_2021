{
 "cells": [
  {
   "cell_type": "code",
   "execution_count": 3,
   "id": "8bfd5413",
   "metadata": {},
   "outputs": [],
   "source": [
    "with open(\"d15.txt\") as f:\n",
    "    lines = f.read().splitlines()"
   ]
  },
  {
   "cell_type": "code",
   "execution_count": 199,
   "id": "5854d0a3",
   "metadata": {},
   "outputs": [],
   "source": [
    "lines = \"\"\"1163751742\n",
    "1381373672\n",
    "2136511328\n",
    "3694931569\n",
    "7463417111\n",
    "1319128137\n",
    "1359912421\n",
    "3125421639\n",
    "1293138521\n",
    "2311944581\n",
    "\"\"\".splitlines()"
   ]
  },
  {
   "cell_type": "code",
   "execution_count": 4,
   "id": "93f74298",
   "metadata": {},
   "outputs": [],
   "source": [
    "import numpy as np"
   ]
  },
  {
   "cell_type": "code",
   "execution_count": 5,
   "id": "4e4620ca",
   "metadata": {},
   "outputs": [],
   "source": [
    "matrix = [list(map(int, list(line))) for line in lines]"
   ]
  },
  {
   "cell_type": "code",
   "execution_count": 6,
   "id": "495dc4c5",
   "metadata": {},
   "outputs": [
    {
     "data": {
      "text/plain": [
       "100"
      ]
     },
     "execution_count": 6,
     "metadata": {},
     "output_type": "execute_result"
    }
   ],
   "source": [
    "len(matrix[0])"
   ]
  },
  {
   "cell_type": "code",
   "execution_count": 7,
   "id": "9b9f9dd4",
   "metadata": {},
   "outputs": [],
   "source": [
    "def get_neighbors(matrix, x, y):\n",
    "    ops = [[0, 1], [1, 0], [-1, 0], [0, -1]]\n",
    "    neighbors = []\n",
    "    for op in ops:\n",
    "        x_ = x+ op[0]\n",
    "        y_ = y+ op[1]\n",
    "        if x_ >= len(matrix) or y_ >= len(matrix[0]) or x_ < 0 or y_ < 0: continue\n",
    "        neighbors.append((x_, y_))\n",
    "    return neighbors"
   ]
  },
  {
   "cell_type": "code",
   "execution_count": 8,
   "id": "cc862dc4",
   "metadata": {},
   "outputs": [
    {
     "data": {
      "text/plain": [
       "[(98, 99), (99, 98)]"
      ]
     },
     "execution_count": 8,
     "metadata": {},
     "output_type": "execute_result"
    }
   ],
   "source": [
    "get_neighbors(matrix, 99, 99)"
   ]
  },
  {
   "cell_type": "code",
   "execution_count": 9,
   "id": "d587fd4a",
   "metadata": {},
   "outputs": [],
   "source": [
    "import networkx"
   ]
  },
  {
   "cell_type": "code",
   "execution_count": 10,
   "id": "05243cdd",
   "metadata": {},
   "outputs": [],
   "source": [
    "graph = networkx.DiGraph()"
   ]
  },
  {
   "cell_type": "code",
   "execution_count": 11,
   "id": "369abf3c",
   "metadata": {},
   "outputs": [],
   "source": [
    "for x in range(len(matrix)):\n",
    "    for y in range(len(matrix)):\n",
    "        neighbors = get_neighbors(matrix, x, y)\n",
    "        for neighbor in neighbors:\n",
    "            graph.add_edge((x, y), neighbor, weight=matrix[neighbor[0]][neighbor[1]])"
   ]
  },
  {
   "cell_type": "code",
   "execution_count": 12,
   "id": "3d419712",
   "metadata": {},
   "outputs": [],
   "source": [
    "def get_sum(path):\n",
    "    return sum(matrix[x][y] for x, y in path[1:])"
   ]
  },
  {
   "cell_type": "code",
   "execution_count": 13,
   "id": "398b37bf",
   "metadata": {},
   "outputs": [],
   "source": [
    "path = networkx.algorithms.shortest_paths.astar.astar_path(graph, (0, 0), (99, 99))"
   ]
  },
  {
   "cell_type": "code",
   "execution_count": 14,
   "id": "72b3c014",
   "metadata": {},
   "outputs": [
    {
     "data": {
      "text/plain": [
       "769"
      ]
     },
     "execution_count": 14,
     "metadata": {},
     "output_type": "execute_result"
    }
   ],
   "source": [
    "get_sum(path)"
   ]
  },
  {
   "cell_type": "code",
   "execution_count": 15,
   "id": "e1cc78b9",
   "metadata": {},
   "outputs": [],
   "source": [
    "dist, path = networkx.single_source_dijkstra(graph, (0, 0), (99, 99))"
   ]
  },
  {
   "cell_type": "code",
   "execution_count": 16,
   "id": "a97876c1",
   "metadata": {},
   "outputs": [
    {
     "data": {
      "text/plain": [
       "769"
      ]
     },
     "execution_count": 16,
     "metadata": {},
     "output_type": "execute_result"
    }
   ],
   "source": [
    "dist"
   ]
  },
  {
   "cell_type": "code",
   "execution_count": null,
   "id": "b86bd149",
   "metadata": {},
   "outputs": [],
   "source": []
  },
  {
   "cell_type": "markdown",
   "id": "9a28cf95",
   "metadata": {},
   "source": [
    "# Part 2"
   ]
  },
  {
   "cell_type": "code",
   "execution_count": 22,
   "id": "08e66c1c",
   "metadata": {},
   "outputs": [],
   "source": [
    "matrix = np.array(matrix)"
   ]
  },
  {
   "cell_type": "code",
   "execution_count": 23,
   "id": "51b8adea",
   "metadata": {},
   "outputs": [],
   "source": [
    "big_matrix = np.zeros((500, 500))"
   ]
  },
  {
   "cell_type": "code",
   "execution_count": 24,
   "id": "beb2291b",
   "metadata": {},
   "outputs": [],
   "source": [
    "for x in range(5):\n",
    "    for y in range(5):\n",
    "        big_matrix[x*100:(x+1)*100, y*100:(y+1)*100] = matrix[:,:] + y + x"
   ]
  },
  {
   "cell_type": "code",
   "execution_count": 25,
   "id": "c3b25e01",
   "metadata": {},
   "outputs": [],
   "source": [
    "big_matrix[big_matrix > 9] -= 9"
   ]
  },
  {
   "cell_type": "code",
   "execution_count": 26,
   "id": "c0b15221",
   "metadata": {},
   "outputs": [
    {
     "data": {
      "text/plain": [
       "array([[7., 9., 7., ..., 4., 5., 3.],\n",
       "       [9., 5., 3., ..., 3., 1., 3.],\n",
       "       [6., 9., 9., ..., 6., 4., 3.],\n",
       "       ...,\n",
       "       [2., 6., 4., ..., 7., 7., 8.],\n",
       "       [4., 4., 1., ..., 8., 8., 8.],\n",
       "       [4., 2., 5., ..., 3., 7., 8.]])"
      ]
     },
     "execution_count": 26,
     "metadata": {},
     "output_type": "execute_result"
    }
   ],
   "source": [
    "big_matrix"
   ]
  },
  {
   "cell_type": "code",
   "execution_count": 27,
   "id": "048edaa5",
   "metadata": {},
   "outputs": [],
   "source": [
    "graph = networkx.DiGraph()"
   ]
  },
  {
   "cell_type": "code",
   "execution_count": 28,
   "id": "2238cb75",
   "metadata": {},
   "outputs": [],
   "source": [
    "for x in range(len(big_matrix)):\n",
    "    for y in range(len(big_matrix)):\n",
    "        neighbors = get_neighbors(big_matrix, x, y)\n",
    "        for neighbor in neighbors:\n",
    "            graph.add_edge((x, y), neighbor, weight=big_matrix[neighbor[0]][neighbor[1]])"
   ]
  },
  {
   "cell_type": "code",
   "execution_count": 29,
   "id": "45faf4f7",
   "metadata": {},
   "outputs": [],
   "source": [
    "dist, path = networkx.single_source_dijkstra(graph, (0, 0), (499, 499))"
   ]
  },
  {
   "cell_type": "code",
   "execution_count": 30,
   "id": "bb2a2ffc",
   "metadata": {},
   "outputs": [
    {
     "data": {
      "text/plain": [
       "2963.0"
      ]
     },
     "execution_count": 30,
     "metadata": {},
     "output_type": "execute_result"
    }
   ],
   "source": [
    "dist"
   ]
  },
  {
   "cell_type": "code",
   "execution_count": null,
   "id": "b80c8123",
   "metadata": {},
   "outputs": [],
   "source": []
  }
 ],
 "metadata": {
  "kernelspec": {
   "display_name": "Python 3 (ipykernel)",
   "language": "python",
   "name": "python3"
  },
  "language_info": {
   "codemirror_mode": {
    "name": "ipython",
    "version": 3
   },
   "file_extension": ".py",
   "mimetype": "text/x-python",
   "name": "python",
   "nbconvert_exporter": "python",
   "pygments_lexer": "ipython3",
   "version": "3.9.8"
  }
 },
 "nbformat": 4,
 "nbformat_minor": 5
}
