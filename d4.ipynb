{
 "cells": [
  {
   "cell_type": "code",
   "execution_count": 1,
   "id": "6cf81bce",
   "metadata": {},
   "outputs": [],
   "source": [
    "with open('d4.txt') as f:\n",
    "    seq, *blocks = f.read().split(\"\\n\\n\")"
   ]
  },
  {
   "cell_type": "code",
   "execution_count": 2,
   "id": "0d55c16e",
   "metadata": {},
   "outputs": [],
   "source": [
    "seq = [int(n) for n in seq.split(\",\")]"
   ]
  },
  {
   "cell_type": "markdown",
   "id": "e21d92f4",
   "metadata": {},
   "source": [
    "# Part 1"
   ]
  },
  {
   "cell_type": "code",
   "execution_count": 3,
   "id": "f9d84cd9",
   "metadata": {},
   "outputs": [],
   "source": [
    "blocks = [\n",
    "    [[int(n) for n in line.split()]\n",
    "    for line in block.split(\"\\n\")]\n",
    "    for block in blocks\n",
    "]"
   ]
  },
  {
   "cell_type": "code",
   "execution_count": 4,
   "id": "8631ad0d",
   "metadata": {},
   "outputs": [
    {
     "data": {
      "text/plain": [
       "[[27, 71, 24, 3, 0],\n",
       " [79, 42, 32, 72, 62],\n",
       " [99, 52, 11, 92, 33],\n",
       " [38, 22, 16, 44, 39],\n",
       " [35, 26, 76, 49, 58]]"
      ]
     },
     "execution_count": 4,
     "metadata": {},
     "output_type": "execute_result"
    }
   ],
   "source": [
    "blocks[1]"
   ]
  },
  {
   "cell_type": "code",
   "execution_count": 5,
   "id": "6d9018f7",
   "metadata": {},
   "outputs": [],
   "source": [
    "def is_win(block, sub_seq):\n",
    "    for i in range(5):\n",
    "        col_marked = all(block[i][j] in sub_seq for j in range(5))\n",
    "        row_marked = all(block[j][i] in sub_seq for j in range(5))\n",
    "        if col_marked or row_marked: return True\n",
    "    return False"
   ]
  },
  {
   "cell_type": "code",
   "execution_count": 6,
   "id": "80dbfd33",
   "metadata": {},
   "outputs": [
    {
     "name": "stdout",
     "output_type": "stream",
     "text": [
      "24 {4, 7, 14, 18, 23, 25, 27, 33, 34, 43, 57, 61, 65, 66, 68, 70, 71, 74, 76, 78, 82, 84, 85, 93}\n"
     ]
    }
   ],
   "source": [
    "for i in range(1, len(seq)):\n",
    "    sub_seq = set(seq[:i])\n",
    "    for block in blocks:\n",
    "        if is_win(block, sub_seq):\n",
    "            print(i, sub_seq)\n",
    "            break\n",
    "    else: # not-win case\n",
    "        continue\n",
    "    break\n",
    "\n",
    "unmarked_sum = sum(block[i][j] \n",
    "                   for i in range(5) \n",
    "                   for j in range(5)\n",
    "                   if block[i][j] not in sub_seq)"
   ]
  },
  {
   "cell_type": "code",
   "execution_count": 7,
   "id": "be1326b4",
   "metadata": {},
   "outputs": [
    {
     "data": {
      "text/plain": [
       "866"
      ]
     },
     "execution_count": 7,
     "metadata": {},
     "output_type": "execute_result"
    }
   ],
   "source": [
    "unmarked_sum"
   ]
  },
  {
   "cell_type": "code",
   "execution_count": 8,
   "id": "9e2a2960",
   "metadata": {},
   "outputs": [
    {
     "data": {
      "text/plain": [
       "64084"
      ]
     },
     "execution_count": 8,
     "metadata": {},
     "output_type": "execute_result"
    }
   ],
   "source": [
    "unmarked_sum * seq[i-1]"
   ]
  },
  {
   "cell_type": "markdown",
   "id": "8fc644ab",
   "metadata": {},
   "source": [
    "# Part 2"
   ]
  },
  {
   "cell_type": "code",
   "execution_count": 12,
   "id": "6a508212",
   "metadata": {},
   "outputs": [],
   "source": [
    "win_order = [] \n",
    "enu_block = list(enumerate(blocks[:]))\n",
    "for i in range(1, len(seq)):\n",
    "    sub_seq = set(seq[:i])\n",
    "    for j, block in enu_block:\n",
    "        if is_win(block, sub_seq):\n",
    "            win_order.append(j)\n",
    "            enu_block.remove((j, block))\n",
    "    if not enu_block:\n",
    "        break\n",
    "\n",
    "unmarked_sum = sum(block[i][j] \n",
    "                   for i in range(5) \n",
    "                   for j in range(5)\n",
    "                   if block[i][j] not in sub_seq)"
   ]
  },
  {
   "cell_type": "code",
   "execution_count": 13,
   "id": "b35bce31",
   "metadata": {},
   "outputs": [
    {
     "data": {
      "text/plain": [
       "12833"
      ]
     },
     "execution_count": 13,
     "metadata": {},
     "output_type": "execute_result"
    }
   ],
   "source": [
    "unmarked_sum * seq[i-1]"
   ]
  },
  {
   "cell_type": "code",
   "execution_count": null,
   "id": "f0d6e803",
   "metadata": {},
   "outputs": [],
   "source": []
  }
 ],
 "metadata": {
  "kernelspec": {
   "display_name": "Python 3 (ipykernel)",
   "language": "python",
   "name": "python3"
  },
  "language_info": {
   "codemirror_mode": {
    "name": "ipython",
    "version": 3
   },
   "file_extension": ".py",
   "mimetype": "text/x-python",
   "name": "python",
   "nbconvert_exporter": "python",
   "pygments_lexer": "ipython3",
   "version": "3.9.8"
  }
 },
 "nbformat": 4,
 "nbformat_minor": 5
}
