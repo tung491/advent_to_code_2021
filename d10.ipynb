{
 "cells": [
  {
   "cell_type": "code",
   "execution_count": 135,
   "id": "764e1570",
   "metadata": {},
   "outputs": [],
   "source": [
    "with open(\"d10.txt\") as f:\n",
    "    lines = f.read().splitlines()"
   ]
  },
  {
   "cell_type": "code",
   "execution_count": 54,
   "id": "b1341a1a",
   "metadata": {},
   "outputs": [],
   "source": [
    "lines = \"\"\"[({(<(())[]>[[{[]{<()<>>\n",
    "[(()[<>])]({[<{<<[]>>(\n",
    "{([(<{}[<>[]}>{[]{[(<()>\n",
    "(((({<>}<{<{<>}{[]{[]{}\n",
    "[[<[([]))<([[{}[[()]]]\n",
    "[{[{({}]{}}([{[{{{}}([]\n",
    "{<[[]]>}<{[{[{[]{()[[[]\n",
    "[<(<(<(<{}))><([]([]()\n",
    "<{([([[(<>()){}]>(<<{{\n",
    "<{([{{}}[<[[[<>{}]]]>[]]\n",
    "\"\"\".splitlines()"
   ]
  },
  {
   "cell_type": "code",
   "execution_count": 120,
   "id": "0a2a6031",
   "metadata": {},
   "outputs": [],
   "source": [
    "pairs = {\"[\": \"]\", \"(\": \")\", \"{\": \"}\", \"<\": \">\"}\n",
    "openers = list(pairs.keys())"
   ]
  },
  {
   "cell_type": "code",
   "execution_count": 123,
   "id": "e9387ce9",
   "metadata": {},
   "outputs": [],
   "source": [
    "for k, v in list(pairs.items()):\n",
    "    pairs[v] = k"
   ]
  },
  {
   "cell_type": "code",
   "execution_count": 115,
   "id": "221dde2f",
   "metadata": {},
   "outputs": [],
   "source": [
    "costs = {\"]\": 57, \")\": 3, \"}\": 1197, \">\": 25137}"
   ]
  },
  {
   "cell_type": "code",
   "execution_count": 141,
   "id": "20ca1588",
   "metadata": {},
   "outputs": [],
   "source": [
    "cost = 0\n",
    "for line in lines:\n",
    "    stack = []\n",
    "    for c in line:\n",
    "        if c in openers:\n",
    "            stack.insert(0, c)\n",
    "        else:\n",
    "            if not stack:\n",
    "                break\n",
    "            expected = pairs[stack[0]]\n",
    "            stack = stack[1:]\n",
    "            if expected == c:\n",
    "                continue\n",
    "            cost += costs[c]\n",
    "            break"
   ]
  },
  {
   "cell_type": "code",
   "execution_count": 142,
   "id": "e565205d",
   "metadata": {},
   "outputs": [
    {
     "data": {
      "text/plain": [
       "362271"
      ]
     },
     "execution_count": 142,
     "metadata": {},
     "output_type": "execute_result"
    }
   ],
   "source": [
    "cost"
   ]
  },
  {
   "cell_type": "code",
   "execution_count": 155,
   "id": "40ceed3b",
   "metadata": {},
   "outputs": [],
   "source": [
    "costs = {\"]\": 2, \")\": 1, \"}\": 3, \">\": 4}"
   ]
  },
  {
   "cell_type": "code",
   "execution_count": 156,
   "id": "9da4d116",
   "metadata": {},
   "outputs": [],
   "source": [
    "cost = []\n",
    "for line in lines:\n",
    "    stack = []\n",
    "    failures = False\n",
    "    for c in line:\n",
    "        if c in openers:\n",
    "            stack.insert(0, c)\n",
    "        else:\n",
    "            if not stack:\n",
    "                break\n",
    "            expected = pairs[stack[0]]\n",
    "            stack = stack[1:]\n",
    "            if expected == c:\n",
    "                continue\n",
    "            failures = True\n",
    "            break\n",
    "    if not failures:\n",
    "        c = 0\n",
    "        for char in stack:\n",
    "            c = c * 5 + costs[pairs[char]]\n",
    "        cost += [c]"
   ]
  },
  {
   "cell_type": "code",
   "execution_count": 157,
   "id": "09c66aca",
   "metadata": {},
   "outputs": [
    {
     "data": {
      "text/plain": [
       "[473966682,\n",
       " 21432396412,\n",
       " 5751933617,\n",
       " 3064200867,\n",
       " 6092918098,\n",
       " 20117168063,\n",
       " 1698395182,\n",
       " 28004212,\n",
       " 935837,\n",
       " 3159864333,\n",
       " 32947659,\n",
       " 124026722,\n",
       " 1548810213,\n",
       " 2757261796,\n",
       " 181248113,\n",
       " 5553228074,\n",
       " 25940109308,\n",
       " 465535596,\n",
       " 2067161417,\n",
       " 471868598,\n",
       " 457599297,\n",
       " 969635972,\n",
       " 14234171731,\n",
       " 5805183582,\n",
       " 96291822,\n",
       " 4143482913,\n",
       " 1010919,\n",
       " 5195057233,\n",
       " 2916505344,\n",
       " 1052723934,\n",
       " 3100916687,\n",
       " 12462058,\n",
       " 14573163982,\n",
       " 202808,\n",
       " 72852466,\n",
       " 33808706,\n",
       " 244004224,\n",
       " 551746747,\n",
       " 19476231,\n",
       " 27290355931,\n",
       " 21227881193,\n",
       " 19954684092,\n",
       " 966171582,\n",
       " 3549374972,\n",
       " 953093309,\n",
       " 21086991416,\n",
       " 2761038364]"
      ]
     },
     "execution_count": 157,
     "metadata": {},
     "output_type": "execute_result"
    }
   ],
   "source": [
    "cost"
   ]
  },
  {
   "cell_type": "code",
   "execution_count": 158,
   "id": "91227736",
   "metadata": {},
   "outputs": [
    {
     "data": {
      "text/plain": [
       "1698395182"
      ]
     },
     "execution_count": 158,
     "metadata": {},
     "output_type": "execute_result"
    }
   ],
   "source": [
    "sorted(cost)[len(cost) // 2]"
   ]
  },
  {
   "cell_type": "code",
   "execution_count": null,
   "id": "eccaabea",
   "metadata": {},
   "outputs": [],
   "source": []
  }
 ],
 "metadata": {
  "kernelspec": {
   "display_name": "Python 3 (ipykernel)",
   "language": "python",
   "name": "python3"
  },
  "language_info": {
   "codemirror_mode": {
    "name": "ipython",
    "version": 3
   },
   "file_extension": ".py",
   "mimetype": "text/x-python",
   "name": "python",
   "nbconvert_exporter": "python",
   "pygments_lexer": "ipython3",
   "version": "3.9.8"
  }
 },
 "nbformat": 4,
 "nbformat_minor": 5
}
