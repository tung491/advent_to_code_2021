{
 "cells": [
  {
   "cell_type": "code",
   "execution_count": 1,
   "id": "43776504",
   "metadata": {},
   "outputs": [],
   "source": [
    "lines = \"\"\"2199943210\n",
    "3987894921\n",
    "9856789892\n",
    "8767896789\n",
    "9899965678\n",
    "\"\"\".splitlines()"
   ]
  },
  {
   "cell_type": "code",
   "execution_count": 2,
   "id": "3aa8c9ea",
   "metadata": {},
   "outputs": [],
   "source": [
    "with open('d9.txt') as f:\n",
    "    lines = f.read().splitlines()"
   ]
  },
  {
   "cell_type": "code",
   "execution_count": 3,
   "id": "c94d0c54",
   "metadata": {},
   "outputs": [],
   "source": [
    "matrix = [list(map(int, list(line))) for line in lines]"
   ]
  },
  {
   "cell_type": "code",
   "execution_count": 4,
   "id": "0f3f6f03",
   "metadata": {},
   "outputs": [],
   "source": [
    "def get_neighbors(matrix, x, y):\n",
    "    ops = [+1, -1, 0]\n",
    "    neighbors = []\n",
    "    for x_op in ops:\n",
    "        for y_op in ops:\n",
    "            try:\n",
    "                x_, y_ = x + x_op, y + y_op\n",
    "                if (x_ < 0 or y_ < 0) or (x_op == 0 and y_op == 0): continue\n",
    "                neighbors.append(matrix[x_][y_])\n",
    "            except Exception:\n",
    "                continue\n",
    "    return neighbors"
   ]
  },
  {
   "cell_type": "code",
   "execution_count": 5,
   "id": "18bb87bc",
   "metadata": {},
   "outputs": [],
   "source": [
    "sum_ = 0\n",
    "for x in range(len(matrix)):\n",
    "    for y in range(len(matrix[0])):\n",
    "        n = matrix[x][y]\n",
    "        neighbors = get_neighbors(matrix, x, y)\n",
    "        if all(n < neighbor for neighbor in neighbors):\n",
    "            sum_ += n + 1"
   ]
  },
  {
   "cell_type": "code",
   "execution_count": 6,
   "id": "2497d413",
   "metadata": {},
   "outputs": [
    {
     "data": {
      "text/plain": [
       "456"
      ]
     },
     "execution_count": 6,
     "metadata": {},
     "output_type": "execute_result"
    }
   ],
   "source": [
    "sum_"
   ]
  },
  {
   "cell_type": "markdown",
   "id": "8f8a59d1",
   "metadata": {},
   "source": [
    "# Part 2"
   ]
  },
  {
   "cell_type": "code",
   "execution_count": 13,
   "id": "5f23d229",
   "metadata": {},
   "outputs": [],
   "source": [
    "import networkx as nx, math\n",
    "import matplotlib.pyplot as plt"
   ]
  },
  {
   "cell_type": "code",
   "execution_count": 8,
   "id": "6a94896e",
   "metadata": {},
   "outputs": [],
   "source": [
    "graph = nx.Graph()"
   ]
  },
  {
   "cell_type": "code",
   "execution_count": 9,
   "id": "c41e5faa",
   "metadata": {},
   "outputs": [],
   "source": [
    "def get_neighbors(matrix, x, y):\n",
    "    ops = [+1, -1]\n",
    "    neighbors = []\n",
    "    for x_op in ops:\n",
    "        try:\n",
    "            neighbor = matrix[x + x_op][y]\n",
    "        except IndexError:\n",
    "            continue\n",
    "        if neighbor != 9: neighbors.append((x + x_op, y))\n",
    "    for y_op in ops:\n",
    "        try:\n",
    "            neighbor = matrix[x][y + y_op]\n",
    "        except IndexError:\n",
    "            continue\n",
    "        if neighbor != 9: neighbors.append((x, y + y_op))\n",
    "    return neighbors"
   ]
  },
  {
   "cell_type": "code",
   "execution_count": 10,
   "id": "0a6146aa",
   "metadata": {},
   "outputs": [],
   "source": [
    "for x in range(len(matrix)):\n",
    "    for y in range(len(matrix[0])):\n",
    "        n = matrix[x][y]\n",
    "        if n == 9: continue\n",
    "        neighbor_idxs = get_neighbors(matrix, x, y)\n",
    "        for n_x, n_y in neighbor_idxs:\n",
    "            graph.add_edge((x,y), (n_x, n_y))"
   ]
  },
  {
   "cell_type": "code",
   "execution_count": 11,
   "id": "60224812",
   "metadata": {},
   "outputs": [],
   "source": [
    "sizes = []\n",
    "for basin in nx.connected_components(graph):\n",
    "    sizes.append(len(basin))\n"
   ]
  },
  {
   "cell_type": "code",
   "execution_count": 12,
   "id": "841e6f2e",
   "metadata": {},
   "outputs": [
    {
     "data": {
      "text/plain": [
       "1047744"
      ]
     },
     "execution_count": 12,
     "metadata": {},
     "output_type": "execute_result"
    }
   ],
   "source": [
    "math.prod(sorted(sizes)[-3:])"
   ]
  },
  {
   "cell_type": "code",
   "execution_count": null,
   "id": "3c20b74f",
   "metadata": {},
   "outputs": [],
   "source": [
    "nx.draw(graph)"
   ]
  },
  {
   "cell_type": "code",
   "execution_count": null,
   "id": "a216496e",
   "metadata": {},
   "outputs": [],
   "source": []
  }
 ],
 "metadata": {
  "kernelspec": {
   "display_name": "Python 3 (ipykernel)",
   "language": "python",
   "name": "python3"
  },
  "language_info": {
   "codemirror_mode": {
    "name": "ipython",
    "version": 3
   },
   "file_extension": ".py",
   "mimetype": "text/x-python",
   "name": "python",
   "nbconvert_exporter": "python",
   "pygments_lexer": "ipython3",
   "version": "3.9.8"
  }
 },
 "nbformat": 4,
 "nbformat_minor": 5
}
