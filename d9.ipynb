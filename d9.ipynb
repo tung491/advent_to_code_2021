{
 "cells": [
  {
   "cell_type": "code",
   "execution_count": 122,
   "id": "b233ed8f",
   "metadata": {},
   "outputs": [],
   "source": [
    "lines = \"\"\"2199943210\n",
    "3987894921\n",
    "9856789892\n",
    "8767896789\n",
    "9899965678\n",
    "\"\"\".splitlines()"
   ]
  },
  {
   "cell_type": "code",
   "execution_count": 130,
   "id": "cbea1143",
   "metadata": {},
   "outputs": [],
   "source": [
    "with open('d9.txt') as f:\n",
    "    lines = f.read().splitlines()"
   ]
  },
  {
   "cell_type": "code",
   "execution_count": 131,
   "id": "8e8a38f9",
   "metadata": {},
   "outputs": [],
   "source": [
    "matrix = [list(map(int, list(line))) for line in lines]"
   ]
  },
  {
   "cell_type": "code",
   "execution_count": 79,
   "id": "d554eee3",
   "metadata": {},
   "outputs": [],
   "source": [
    "def get_neighbors(matrix, x, y):\n",
    "    ops = [+1, -1, 0]\n",
    "    neighbors = []\n",
    "    for x_op in ops:\n",
    "        for y_op in ops:\n",
    "            try:\n",
    "                x_, y_ = x + x_op, y + y_op\n",
    "                if (x_ < 0 or y_ < 0) or (x_op == 0 and y_op == 0): continue\n",
    "                neighbors.append(matrix[x_][y_])\n",
    "            except Exception:\n",
    "                continue\n",
    "    return neighbors"
   ]
  },
  {
   "cell_type": "code",
   "execution_count": 80,
   "id": "64fc1224",
   "metadata": {},
   "outputs": [],
   "source": [
    "sum_ = 0\n",
    "for x in range(len(matrix)):\n",
    "    for y in range(len(matrix[0])):\n",
    "        n = matrix[x][y]\n",
    "        neighbors = get_neighbors(matrix, x, y)\n",
    "        if all(n < neighbor for neighbor in neighbors):\n",
    "            sum_ += n + 1"
   ]
  },
  {
   "cell_type": "code",
   "execution_count": 81,
   "id": "4e9dac95",
   "metadata": {},
   "outputs": [
    {
     "data": {
      "text/plain": [
       "456"
      ]
     },
     "execution_count": 81,
     "metadata": {},
     "output_type": "execute_result"
    }
   ],
   "source": [
    "sum_"
   ]
  },
  {
   "cell_type": "markdown",
   "id": "879fdc31",
   "metadata": {},
   "source": [
    "# Basin"
   ]
  },
  {
   "cell_type": "code",
   "execution_count": 42,
   "id": "416c8a18",
   "metadata": {},
   "outputs": [],
   "source": [
    "import networkx as nx"
   ]
  },
  {
   "cell_type": "code",
   "execution_count": 133,
   "id": "12eff893",
   "metadata": {},
   "outputs": [],
   "source": [
    "graph = nx.Graph()"
   ]
  },
  {
   "cell_type": "code",
   "execution_count": 134,
   "id": "0396d11e",
   "metadata": {},
   "outputs": [],
   "source": [
    "def get_neighbors(matrix, x, y):\n",
    "    ops = [+1, -1]\n",
    "    neighbors = []\n",
    "    for x_op in ops:\n",
    "        try:\n",
    "            neighbor = matrix[x + x_op][y]\n",
    "        except IndexError:\n",
    "            continue\n",
    "        if neighbor != 9: neighbors.append((x + x_op, y))\n",
    "    for y_op in ops:\n",
    "        try:\n",
    "            neighbor = matrix[x][y + y_op]\n",
    "        except IndexError:\n",
    "            continue\n",
    "        if neighbor != 9: neighbors.append((x, y + y_op))\n",
    "    return neighbors"
   ]
  },
  {
   "cell_type": "code",
   "execution_count": 137,
   "id": "e06e5d56",
   "metadata": {},
   "outputs": [],
   "source": [
    "for x in range(len(matrix)):\n",
    "    for y in range(len(matrix[0])):\n",
    "        n = matrix[x][y]\n",
    "        if n == 9: continue\n",
    "        neighbor_idxs = get_neighbors(matrix, x, y)\n",
    "        for n_x, n_y in neighbor_idxs:\n",
    "            graph.add_edge((x,y), (n_x, n_y))"
   ]
  },
  {
   "cell_type": "code",
   "execution_count": 146,
   "id": "d3363dd6",
   "metadata": {},
   "outputs": [],
   "source": [
    "sizes = []\n",
    "for basin in nx.connected_components(graph):\n",
    "    sizes.append(len(basin))\n"
   ]
  },
  {
   "cell_type": "code",
   "execution_count": 147,
   "id": "33a12af8",
   "metadata": {},
   "outputs": [],
   "source": [
    "import math"
   ]
  },
  {
   "cell_type": "code",
   "execution_count": 148,
   "id": "a5cf2d84",
   "metadata": {},
   "outputs": [
    {
     "data": {
      "text/plain": [
       "1047744"
      ]
     },
     "execution_count": 148,
     "metadata": {},
     "output_type": "execute_result"
    }
   ],
   "source": [
    "math.prod(sorted(sizes)[-3:])"
   ]
  },
  {
   "cell_type": "code",
   "execution_count": null,
   "id": "1fae8f59",
   "metadata": {},
   "outputs": [],
   "source": []
  }
 ],
 "metadata": {
  "kernelspec": {
   "display_name": "Python 3 (ipykernel)",
   "language": "python",
   "name": "python3"
  },
  "language_info": {
   "codemirror_mode": {
    "name": "ipython",
    "version": 3
   },
   "file_extension": ".py",
   "mimetype": "text/x-python",
   "name": "python",
   "nbconvert_exporter": "python",
   "pygments_lexer": "ipython3",
   "version": "3.9.8"
  }
 },
 "nbformat": 4,
 "nbformat_minor": 5
}
