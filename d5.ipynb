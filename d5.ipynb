{
 "cells": [
  {
   "cell_type": "code",
   "execution_count": 60,
   "id": "fe31bc9d",
   "metadata": {},
   "outputs": [],
   "source": [
    "with open('d5.txt') as f:\n",
    "    data = f.read().splitlines()"
   ]
  },
  {
   "cell_type": "code",
   "execution_count": 61,
   "id": "35a96733",
   "metadata": {},
   "outputs": [],
   "source": [
    "import re"
   ]
  },
  {
   "cell_type": "code",
   "execution_count": 62,
   "id": "e44fdd20",
   "metadata": {},
   "outputs": [],
   "source": [
    "pattern = \"(\\d+),(\\d+) -> (\\d+),(\\d+)\""
   ]
  },
  {
   "cell_type": "code",
   "execution_count": 63,
   "id": "3a501f06",
   "metadata": {},
   "outputs": [],
   "source": [
    "lines = [list(map(int, re.match(pattern, line).groups())) for line in data]"
   ]
  },
  {
   "cell_type": "code",
   "execution_count": 65,
   "id": "852000b2",
   "metadata": {},
   "outputs": [],
   "source": [
    "def is_vertical(x1, y1, x2, y2):\n",
    "    return x1 == x2\n",
    "def is_horizontal(x1, y1, x2, y2):\n",
    "    return y1 == y2"
   ]
  },
  {
   "cell_type": "code",
   "execution_count": 66,
   "id": "def5bc07",
   "metadata": {},
   "outputs": [],
   "source": [
    "from collections import Counter"
   ]
  },
  {
   "cell_type": "code",
   "execution_count": 76,
   "id": "c2103e8d",
   "metadata": {},
   "outputs": [],
   "source": [
    "mapping = Counter()"
   ]
  },
  {
   "cell_type": "code",
   "execution_count": 77,
   "id": "3be7b94c",
   "metadata": {},
   "outputs": [],
   "source": [
    "for line in lines:\n",
    "    x1, y1, x2, y2 = line\n",
    "    if is_vertical(x1, y1, x2, y2):\n",
    "        for y in range(min(y1, y2), max(y1, y2) + 1):\n",
    "            mapping[(x1, y)] += 1\n",
    "    if is_horizontal(x1, y1, x2, y2):\n",
    "        for x in range(min(x1, x2), max(x1, x2) + 1):\n",
    "            mapping[(x, y1)] += 1"
   ]
  },
  {
   "cell_type": "code",
   "execution_count": 78,
   "id": "29c74d3c",
   "metadata": {},
   "outputs": [
    {
     "data": {
      "text/plain": [
       "5084"
      ]
     },
     "execution_count": 78,
     "metadata": {},
     "output_type": "execute_result"
    }
   ],
   "source": [
    "sum(1 for i in mapping.values() if i >= 2)"
   ]
  },
  {
   "cell_type": "markdown",
   "id": "bc90999c",
   "metadata": {},
   "source": [
    "# Part 2"
   ]
  },
  {
   "cell_type": "code",
   "execution_count": 81,
   "id": "fbfd69dc",
   "metadata": {},
   "outputs": [],
   "source": [
    "mapping = Counter()\n",
    "for line in lines:\n",
    "    x1, y1, x2, y2 = line\n",
    "    if is_vertical(x1, y1, x2, y2):\n",
    "        for y in range(min(y1, y2), max(y1, y2) + 1):\n",
    "            mapping[(x1, y)] += 1\n",
    "    elif is_horizontal(x1, y1, x2, y2):\n",
    "        for x in range(min(x1, x2), max(x1, x2) + 1):\n",
    "            mapping[(x, y1)] += 1\n",
    "    else: # 45 diag\n",
    "        dx = 1 if x2 > x1 else -1\n",
    "        dy = 1 if y2 > y1 else -1\n",
    "        x_, y_ = x1, y1\n",
    "        while (x_, y_) != (x2, y2):\n",
    "            mapping[(x_, y_)] += 1\n",
    "            x_ += dx\n",
    "            y_ += dy\n",
    "        mapping[(x_, y_)] += 1"
   ]
  },
  {
   "cell_type": "code",
   "execution_count": 82,
   "id": "511b94b3",
   "metadata": {},
   "outputs": [
    {
     "data": {
      "text/plain": [
       "17882"
      ]
     },
     "execution_count": 82,
     "metadata": {},
     "output_type": "execute_result"
    }
   ],
   "source": [
    "sum(1 for i in mapping.values() if i >= 2)"
   ]
  },
  {
   "cell_type": "code",
   "execution_count": null,
   "id": "609c9a05",
   "metadata": {},
   "outputs": [],
   "source": []
  }
 ],
 "metadata": {
  "kernelspec": {
   "display_name": "Python 3 (ipykernel)",
   "language": "python",
   "name": "python3"
  },
  "language_info": {
   "codemirror_mode": {
    "name": "ipython",
    "version": 3
   },
   "file_extension": ".py",
   "mimetype": "text/x-python",
   "name": "python",
   "nbconvert_exporter": "python",
   "pygments_lexer": "ipython3",
   "version": "3.9.8"
  }
 },
 "nbformat": 4,
 "nbformat_minor": 5
}
