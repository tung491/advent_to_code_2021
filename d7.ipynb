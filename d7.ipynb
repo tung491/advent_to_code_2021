{
 "cells": [
  {
   "cell_type": "code",
   "execution_count": 5,
   "id": "75f8314a",
   "metadata": {},
   "outputs": [],
   "source": [
    "with open('d7.txt') as f:\n",
    "    ns = list(map(int, f.read().split(',')))"
   ]
  },
  {
   "cell_type": "code",
   "execution_count": 6,
   "id": "a62a4481",
   "metadata": {},
   "outputs": [
    {
     "data": {
      "text/plain": [
       "1000"
      ]
     },
     "execution_count": 6,
     "metadata": {},
     "output_type": "execute_result"
    }
   ],
   "source": [
    "len(ns)"
   ]
  },
  {
   "cell_type": "code",
   "execution_count": 7,
   "id": "e2ecab0d",
   "metadata": {},
   "outputs": [],
   "source": [
    "ns.sort()\n",
    "median = ns[len(ns)//2]\n",
    "fuel = sum(abs(x - median) for x in ns)"
   ]
  },
  {
   "cell_type": "code",
   "execution_count": 8,
   "id": "1ddd9811",
   "metadata": {},
   "outputs": [
    {
     "data": {
      "text/plain": [
       "341534"
      ]
     },
     "execution_count": 8,
     "metadata": {},
     "output_type": "execute_result"
    }
   ],
   "source": [
    "fuel"
   ]
  },
  {
   "cell_type": "code",
   "execution_count": 9,
   "id": "d9c15943",
   "metadata": {},
   "outputs": [],
   "source": [
    "def calc_cost(n):\n",
    "    return n * (n + 1) // 2"
   ]
  },
  {
   "cell_type": "code",
   "execution_count": 12,
   "id": "023e8e57",
   "metadata": {},
   "outputs": [],
   "source": [
    "ns.sort()\n",
    "median = ns[len(ns) // 2]\n",
    "fuel = sum(abs(calc_cost(abs(x - median))) for x in ns)\n",
    "\n",
    "for median in range(min(ns), max(ns) + 1):\n",
    "    fuel = min(fuel, sum(calc_cost(abs(n - median)) for n in ns))"
   ]
  },
  {
   "cell_type": "code",
   "execution_count": 13,
   "id": "5721e97a",
   "metadata": {},
   "outputs": [
    {
     "data": {
      "text/plain": [
       "93397632"
      ]
     },
     "execution_count": 13,
     "metadata": {},
     "output_type": "execute_result"
    }
   ],
   "source": [
    "fuel"
   ]
  },
  {
   "cell_type": "code",
   "execution_count": null,
   "id": "25a837d2",
   "metadata": {},
   "outputs": [],
   "source": []
  },
  {
   "cell_type": "code",
   "execution_count": null,
   "id": "d5f476c9",
   "metadata": {},
   "outputs": [],
   "source": []
  }
 ],
 "metadata": {
  "kernelspec": {
   "display_name": "Python 3 (ipykernel)",
   "language": "python",
   "name": "python3"
  },
  "language_info": {
   "codemirror_mode": {
    "name": "ipython",
    "version": 3
   },
   "file_extension": ".py",
   "mimetype": "text/x-python",
   "name": "python",
   "nbconvert_exporter": "python",
   "pygments_lexer": "ipython3",
   "version": "3.9.8"
  }
 },
 "nbformat": 4,
 "nbformat_minor": 5
}
